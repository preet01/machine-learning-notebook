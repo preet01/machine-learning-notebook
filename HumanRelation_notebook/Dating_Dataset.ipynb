{
 "cells": [
  {
   "cell_type": "markdown",
   "metadata": {},
   "source": [
    "## Dataset belong to a dating Website.\n",
    "\n",
    "We have to classify 0 or 1, i.e. whether based on factors like(age,do they smoke,do they want child,their interests \n",
    "and their address) will two people choose to date each other.\n",
    "\n",
    "First, we need to clean the data and perform feature engineering,so as to get the important data out of it.\n",
    "We'll be using graphs to understand the relation between different factors.\n",
    "\n",
    "I am not going to use Bagging/Boosting, so as to keep the project simple."
   ]
  },
  {
   "cell_type": "code",
   "execution_count": 32,
   "metadata": {
    "collapsed": true
   },
   "outputs": [],
   "source": [
    "import pandas as pd\n",
    "import matplotlib.pyplot as plt\n",
    "import seaborn as sns"
   ]
  },
  {
   "cell_type": "code",
   "execution_count": 5,
   "metadata": {},
   "outputs": [],
   "source": [
    "train=pd.read_csv('marriage_data.csv').reset_index(drop=True)"
   ]
  },
  {
   "cell_type": "code",
   "execution_count": 6,
   "metadata": {},
   "outputs": [
    {
     "name": "stdout",
     "output_type": "stream",
     "text": [
      "(499, 11)\n",
      "Index(['39', 'yes', 'no', 'skiing:knitting:dancing',\n",
      "       '220 W 42nd St New York NY', '43', 'no.1', 'yes.1',\n",
      "       'soccer:reading:scrabble', '824 3rd Ave New York NY', '0'],\n",
      "      dtype='object')\n"
     ]
    }
   ],
   "source": [
    "print(train.shape)\n",
    "print(train.columns)"
   ]
  },
  {
   "cell_type": "code",
   "execution_count": 7,
   "metadata": {},
   "outputs": [
    {
     "data": {
      "text/html": [
       "<div>\n",
       "<style>\n",
       "    .dataframe thead tr:only-child th {\n",
       "        text-align: right;\n",
       "    }\n",
       "\n",
       "    .dataframe thead th {\n",
       "        text-align: left;\n",
       "    }\n",
       "\n",
       "    .dataframe tbody tr th {\n",
       "        vertical-align: top;\n",
       "    }\n",
       "</style>\n",
       "<table border=\"1\" class=\"dataframe\">\n",
       "  <thead>\n",
       "    <tr style=\"text-align: right;\">\n",
       "      <th></th>\n",
       "      <th>39</th>\n",
       "      <th>yes</th>\n",
       "      <th>no</th>\n",
       "      <th>skiing:knitting:dancing</th>\n",
       "      <th>220 W 42nd St New York NY</th>\n",
       "      <th>43</th>\n",
       "      <th>no.1</th>\n",
       "      <th>yes.1</th>\n",
       "      <th>soccer:reading:scrabble</th>\n",
       "      <th>824 3rd Ave New York NY</th>\n",
       "      <th>0</th>\n",
       "    </tr>\n",
       "  </thead>\n",
       "  <tbody>\n",
       "    <tr>\n",
       "      <th>0</th>\n",
       "      <td>23</td>\n",
       "      <td>no</td>\n",
       "      <td>no</td>\n",
       "      <td>football:fashion</td>\n",
       "      <td>102 1st Ave New York NY</td>\n",
       "      <td>30</td>\n",
       "      <td>no</td>\n",
       "      <td>no</td>\n",
       "      <td>snowboarding:knitting:computers:shopping:tv:tr...</td>\n",
       "      <td>151 W 34th St New York NY</td>\n",
       "      <td>1</td>\n",
       "    </tr>\n",
       "    <tr>\n",
       "      <th>1</th>\n",
       "      <td>50</td>\n",
       "      <td>no</td>\n",
       "      <td>no</td>\n",
       "      <td>fashion:opera:tv:travel</td>\n",
       "      <td>686 Avenue of the Americas New York NY</td>\n",
       "      <td>49</td>\n",
       "      <td>yes</td>\n",
       "      <td>yes</td>\n",
       "      <td>soccer:fashion:photography:computers:camping:m...</td>\n",
       "      <td>824 3rd Ave New York NY</td>\n",
       "      <td>0</td>\n",
       "    </tr>\n",
       "    <tr>\n",
       "      <th>2</th>\n",
       "      <td>46</td>\n",
       "      <td>no</td>\n",
       "      <td>yes</td>\n",
       "      <td>skiing:reading:knitting:writing:shopping</td>\n",
       "      <td>154 7th Ave New York NY</td>\n",
       "      <td>19</td>\n",
       "      <td>no</td>\n",
       "      <td>no</td>\n",
       "      <td>dancing:opera:travel</td>\n",
       "      <td>1560 Broadway New York NY</td>\n",
       "      <td>0</td>\n",
       "    </tr>\n",
       "    <tr>\n",
       "      <th>3</th>\n",
       "      <td>36</td>\n",
       "      <td>yes</td>\n",
       "      <td>yes</td>\n",
       "      <td>skiing:knitting:camping:writing:cooking</td>\n",
       "      <td>151 W 34th St New York NY</td>\n",
       "      <td>29</td>\n",
       "      <td>no</td>\n",
       "      <td>yes</td>\n",
       "      <td>art:movies:cooking:scrabble</td>\n",
       "      <td>966 3rd Ave New York NY</td>\n",
       "      <td>1</td>\n",
       "    </tr>\n",
       "    <tr>\n",
       "      <th>4</th>\n",
       "      <td>27</td>\n",
       "      <td>no</td>\n",
       "      <td>no</td>\n",
       "      <td>snowboarding:knitting:fashion:camping:cooking</td>\n",
       "      <td>27 3rd Ave New York NY</td>\n",
       "      <td>19</td>\n",
       "      <td>yes</td>\n",
       "      <td>yes</td>\n",
       "      <td>football:computers:writing</td>\n",
       "      <td>14 E 47th St New York NY</td>\n",
       "      <td>0</td>\n",
       "    </tr>\n",
       "  </tbody>\n",
       "</table>\n",
       "</div>"
      ],
      "text/plain": [
       "   39  yes   no                        skiing:knitting:dancing  \\\n",
       "0  23   no   no                               football:fashion   \n",
       "1  50   no   no                        fashion:opera:tv:travel   \n",
       "2  46   no  yes       skiing:reading:knitting:writing:shopping   \n",
       "3  36  yes  yes        skiing:knitting:camping:writing:cooking   \n",
       "4  27   no   no  snowboarding:knitting:fashion:camping:cooking   \n",
       "\n",
       "                220 W 42nd St New York NY  43 no.1 yes.1  \\\n",
       "0                 102 1st Ave New York NY  30   no    no   \n",
       "1  686 Avenue of the Americas New York NY  49  yes   yes   \n",
       "2                 154 7th Ave New York NY  19   no    no   \n",
       "3               151 W 34th St New York NY  29   no   yes   \n",
       "4                  27 3rd Ave New York NY  19  yes   yes   \n",
       "\n",
       "                             soccer:reading:scrabble  \\\n",
       "0  snowboarding:knitting:computers:shopping:tv:tr...   \n",
       "1  soccer:fashion:photography:computers:camping:m...   \n",
       "2                               dancing:opera:travel   \n",
       "3                        art:movies:cooking:scrabble   \n",
       "4                         football:computers:writing   \n",
       "\n",
       "     824 3rd Ave New York NY  0  \n",
       "0  151 W 34th St New York NY  1  \n",
       "1    824 3rd Ave New York NY  0  \n",
       "2  1560 Broadway New York NY  0  \n",
       "3    966 3rd Ave New York NY  1  \n",
       "4   14 E 47th St New York NY  0  "
      ]
     },
     "execution_count": 7,
     "metadata": {},
     "output_type": "execute_result"
    }
   ],
   "source": [
    "train.head(5)"
   ]
  },
  {
   "cell_type": "markdown",
   "metadata": {},
   "source": [
    "As you can see above, the name of columns is not given. So, we have to name it ourselves."
   ]
  },
  {
   "cell_type": "code",
   "execution_count": 9,
   "metadata": {
    "collapsed": true
   },
   "outputs": [],
   "source": [
    "train['f.age']=train['39']\n",
    "train['f.smoker']=train['yes']\n",
    "train['f.child']=train['no']\n",
    "train['f.interest']=train['skiing:knitting:dancing']\n",
    "train['f.address']=train['220 W 42nd St New York NY']\n",
    "\n",
    "train['m.age']=train['43']\n",
    "train['m.smoker']=train['no.1']\n",
    "train['m.child']=train['yes.1']\n",
    "train['m.interest']=train['soccer:reading:scrabble']\n",
    "train['m.address']=train['824 3rd Ave New York NY']\n",
    "\n",
    "train['match']=train['0']\n",
    "train=train.drop(['39','yes','no','skiing:knitting:dancing','220 W 42nd St New York NY','43','no.1','yes.1','soccer:reading:scrabble','824 3rd Ave New York NY','0'],axis=1)\n"
   ]
  },
  {
   "cell_type": "code",
   "execution_count": 10,
   "metadata": {
    "scrolled": true
   },
   "outputs": [
    {
     "data": {
      "text/html": [
       "<div>\n",
       "<style>\n",
       "    .dataframe thead tr:only-child th {\n",
       "        text-align: right;\n",
       "    }\n",
       "\n",
       "    .dataframe thead th {\n",
       "        text-align: left;\n",
       "    }\n",
       "\n",
       "    .dataframe tbody tr th {\n",
       "        vertical-align: top;\n",
       "    }\n",
       "</style>\n",
       "<table border=\"1\" class=\"dataframe\">\n",
       "  <thead>\n",
       "    <tr style=\"text-align: right;\">\n",
       "      <th></th>\n",
       "      <th>f.age</th>\n",
       "      <th>f.smoker</th>\n",
       "      <th>f.child</th>\n",
       "      <th>f.interest</th>\n",
       "      <th>f.address</th>\n",
       "      <th>m.age</th>\n",
       "      <th>m.smoker</th>\n",
       "      <th>m.child</th>\n",
       "      <th>m.interest</th>\n",
       "      <th>m.address</th>\n",
       "      <th>match</th>\n",
       "    </tr>\n",
       "  </thead>\n",
       "  <tbody>\n",
       "    <tr>\n",
       "      <th>0</th>\n",
       "      <td>23</td>\n",
       "      <td>no</td>\n",
       "      <td>no</td>\n",
       "      <td>football:fashion</td>\n",
       "      <td>102 1st Ave New York NY</td>\n",
       "      <td>30</td>\n",
       "      <td>no</td>\n",
       "      <td>no</td>\n",
       "      <td>snowboarding:knitting:computers:shopping:tv:tr...</td>\n",
       "      <td>151 W 34th St New York NY</td>\n",
       "      <td>1</td>\n",
       "    </tr>\n",
       "    <tr>\n",
       "      <th>1</th>\n",
       "      <td>50</td>\n",
       "      <td>no</td>\n",
       "      <td>no</td>\n",
       "      <td>fashion:opera:tv:travel</td>\n",
       "      <td>686 Avenue of the Americas New York NY</td>\n",
       "      <td>49</td>\n",
       "      <td>yes</td>\n",
       "      <td>yes</td>\n",
       "      <td>soccer:fashion:photography:computers:camping:m...</td>\n",
       "      <td>824 3rd Ave New York NY</td>\n",
       "      <td>0</td>\n",
       "    </tr>\n",
       "    <tr>\n",
       "      <th>2</th>\n",
       "      <td>46</td>\n",
       "      <td>no</td>\n",
       "      <td>yes</td>\n",
       "      <td>skiing:reading:knitting:writing:shopping</td>\n",
       "      <td>154 7th Ave New York NY</td>\n",
       "      <td>19</td>\n",
       "      <td>no</td>\n",
       "      <td>no</td>\n",
       "      <td>dancing:opera:travel</td>\n",
       "      <td>1560 Broadway New York NY</td>\n",
       "      <td>0</td>\n",
       "    </tr>\n",
       "    <tr>\n",
       "      <th>3</th>\n",
       "      <td>36</td>\n",
       "      <td>yes</td>\n",
       "      <td>yes</td>\n",
       "      <td>skiing:knitting:camping:writing:cooking</td>\n",
       "      <td>151 W 34th St New York NY</td>\n",
       "      <td>29</td>\n",
       "      <td>no</td>\n",
       "      <td>yes</td>\n",
       "      <td>art:movies:cooking:scrabble</td>\n",
       "      <td>966 3rd Ave New York NY</td>\n",
       "      <td>1</td>\n",
       "    </tr>\n",
       "    <tr>\n",
       "      <th>4</th>\n",
       "      <td>27</td>\n",
       "      <td>no</td>\n",
       "      <td>no</td>\n",
       "      <td>snowboarding:knitting:fashion:camping:cooking</td>\n",
       "      <td>27 3rd Ave New York NY</td>\n",
       "      <td>19</td>\n",
       "      <td>yes</td>\n",
       "      <td>yes</td>\n",
       "      <td>football:computers:writing</td>\n",
       "      <td>14 E 47th St New York NY</td>\n",
       "      <td>0</td>\n",
       "    </tr>\n",
       "  </tbody>\n",
       "</table>\n",
       "</div>"
      ],
      "text/plain": [
       "   f.age f.smoker f.child                                     f.interest  \\\n",
       "0     23       no      no                               football:fashion   \n",
       "1     50       no      no                        fashion:opera:tv:travel   \n",
       "2     46       no     yes       skiing:reading:knitting:writing:shopping   \n",
       "3     36      yes     yes        skiing:knitting:camping:writing:cooking   \n",
       "4     27       no      no  snowboarding:knitting:fashion:camping:cooking   \n",
       "\n",
       "                                f.address  m.age m.smoker m.child  \\\n",
       "0                 102 1st Ave New York NY     30       no      no   \n",
       "1  686 Avenue of the Americas New York NY     49      yes     yes   \n",
       "2                 154 7th Ave New York NY     19       no      no   \n",
       "3               151 W 34th St New York NY     29       no     yes   \n",
       "4                  27 3rd Ave New York NY     19      yes     yes   \n",
       "\n",
       "                                          m.interest  \\\n",
       "0  snowboarding:knitting:computers:shopping:tv:tr...   \n",
       "1  soccer:fashion:photography:computers:camping:m...   \n",
       "2                               dancing:opera:travel   \n",
       "3                        art:movies:cooking:scrabble   \n",
       "4                         football:computers:writing   \n",
       "\n",
       "                   m.address  match  \n",
       "0  151 W 34th St New York NY      1  \n",
       "1    824 3rd Ave New York NY      0  \n",
       "2  1560 Broadway New York NY      0  \n",
       "3    966 3rd Ave New York NY      1  \n",
       "4   14 E 47th St New York NY      0  "
      ]
     },
     "execution_count": 10,
     "metadata": {},
     "output_type": "execute_result"
    }
   ],
   "source": [
    "train.head(5)"
   ]
  },
  {
   "cell_type": "markdown",
   "metadata": {},
   "source": [
    "## Checking for skew distribution among the dataset.\n",
    "\n",
    "Skewness is a measure of the asymmetry of the probability distribution of a real-valued random variable(which is Match Type i.e. 0 or 1) about its mean."
   ]
  },
  {
   "cell_type": "code",
   "execution_count": 11,
   "metadata": {},
   "outputs": [
    {
     "data": {
      "image/png": "[encoded data removed]",
      "text/plain": [
       "<matplotlib.figure.Figure at 0x7fcbecda2b38>"
      ]
     },
     "metadata": {},
     "output_type": "display_data"
    }
   ],
   "source": [
    "sns.countplot(train.match)\n",
    "plt.xlabel('Match Type')\n",
    "plt.ylabel('Number of Match')\n",
    "plt.show()"
   ]
  },
  {
   "cell_type": "code",
   "execution_count": 12,
   "metadata": {
    "collapsed": true
   },
   "outputs": [],
   "source": [
    "train.dropna(inplace=True)\n",
    "train.isnull().sum()\n",
    "train=train.reset_index(drop=True)"
   ]
  },
  {
   "cell_type": "markdown",
   "metadata": {},
   "source": [
    "## Since, our algorithm cannot understand the yes/no, we use something called LabelEncoder to convert the feature into 0/1."
   ]
  },
  {
   "cell_type": "code",
   "execution_count": 13,
   "metadata": {},
   "outputs": [
    {
     "data": {
      "text/html": [
       "<div>\n",
       "<style>\n",
       "    .dataframe thead tr:only-child th {\n",
       "        text-align: right;\n",
       "    }\n",
       "\n",
       "    .dataframe thead th {\n",
       "        text-align: left;\n",
       "    }\n",
       "\n",
       "    .dataframe tbody tr th {\n",
       "        vertical-align: top;\n",
       "    }\n",
       "</style>\n",
       "<table border=\"1\" class=\"dataframe\">\n",
       "  <thead>\n",
       "    <tr style=\"text-align: right;\">\n",
       "      <th></th>\n",
       "      <th>f.age</th>\n",
       "      <th>f.smoker</th>\n",
       "      <th>f.child</th>\n",
       "      <th>f.interest</th>\n",
       "      <th>f.address</th>\n",
       "      <th>m.age</th>\n",
       "      <th>m.smoker</th>\n",
       "      <th>m.child</th>\n",
       "      <th>m.interest</th>\n",
       "      <th>m.address</th>\n",
       "      <th>match</th>\n",
       "    </tr>\n",
       "  </thead>\n",
       "  <tbody>\n",
       "    <tr>\n",
       "      <th>0</th>\n",
       "      <td>23</td>\n",
       "      <td>0</td>\n",
       "      <td>0</td>\n",
       "      <td>football:fashion</td>\n",
       "      <td>102 1st Ave New York NY</td>\n",
       "      <td>30</td>\n",
       "      <td>0</td>\n",
       "      <td>0</td>\n",
       "      <td>snowboarding:knitting:computers:shopping:tv:tr...</td>\n",
       "      <td>151 W 34th St New York NY</td>\n",
       "      <td>1</td>\n",
       "    </tr>\n",
       "    <tr>\n",
       "      <th>1</th>\n",
       "      <td>50</td>\n",
       "      <td>0</td>\n",
       "      <td>0</td>\n",
       "      <td>fashion:opera:tv:travel</td>\n",
       "      <td>686 Avenue of the Americas New York NY</td>\n",
       "      <td>49</td>\n",
       "      <td>1</td>\n",
       "      <td>1</td>\n",
       "      <td>soccer:fashion:photography:computers:camping:m...</td>\n",
       "      <td>824 3rd Ave New York NY</td>\n",
       "      <td>0</td>\n",
       "    </tr>\n",
       "    <tr>\n",
       "      <th>2</th>\n",
       "      <td>46</td>\n",
       "      <td>0</td>\n",
       "      <td>1</td>\n",
       "      <td>skiing:reading:knitting:writing:shopping</td>\n",
       "      <td>154 7th Ave New York NY</td>\n",
       "      <td>19</td>\n",
       "      <td>0</td>\n",
       "      <td>0</td>\n",
       "      <td>dancing:opera:travel</td>\n",
       "      <td>1560 Broadway New York NY</td>\n",
       "      <td>0</td>\n",
       "    </tr>\n",
       "  </tbody>\n",
       "</table>\n",
       "</div>"
      ],
      "text/plain": [
       "   f.age  f.smoker  f.child                                f.interest  \\\n",
       "0     23         0        0                          football:fashion   \n",
       "1     50         0        0                   fashion:opera:tv:travel   \n",
       "2     46         0        1  skiing:reading:knitting:writing:shopping   \n",
       "\n",
       "                                f.address  m.age  m.smoker  m.child  \\\n",
       "0                 102 1st Ave New York NY     30         0        0   \n",
       "1  686 Avenue of the Americas New York NY     49         1        1   \n",
       "2                 154 7th Ave New York NY     19         0        0   \n",
       "\n",
       "                                          m.interest  \\\n",
       "0  snowboarding:knitting:computers:shopping:tv:tr...   \n",
       "1  soccer:fashion:photography:computers:camping:m...   \n",
       "2                               dancing:opera:travel   \n",
       "\n",
       "                   m.address  match  \n",
       "0  151 W 34th St New York NY      1  \n",
       "1    824 3rd Ave New York NY      0  \n",
       "2  1560 Broadway New York NY      0  "
      ]
     },
     "execution_count": 13,
     "metadata": {},
     "output_type": "execute_result"
    }
   ],
   "source": [
    "from sklearn.preprocessing import LabelEncoder\n",
    "le=LabelEncoder()\n",
    "train['f.smoker']=le.fit_transform(train['f.smoker'])\n",
    "train['f.child']=le.fit_transform(train['f.child'])\n",
    "train['m.smoker']=le.fit_transform(train['m.smoker'])\n",
    "train['m.child']=le.fit_transform(train['m.child'])\n",
    "train.head(3)"
   ]
  },
  {
   "cell_type": "code",
   "execution_count": 14,
   "metadata": {},
   "outputs": [
    {
     "name": "stdout",
     "output_type": "stream",
     "text": [
      "0    380\n",
      "1    112\n",
      "Name: m.smoker, dtype: int64\n",
      "0    407\n",
      "1     85\n",
      "Name: f.smoker, dtype: int64\n"
     ]
    },
    {
     "data": {
      "image/png": "[encoded data removed]",
      "text/plain": [
       "<matplotlib.figure.Figure at 0x7fcbecda2438>"
      ]
     },
     "metadata": {},
     "output_type": "display_data"
    }
   ],
   "source": [
    "print(train['m.smoker'].value_counts())\n",
    "print(train['f.smoker'].value_counts())\n",
    "sns.barplot(x='m.smoker',y='match',data=train,ax=plt.subplot(121))\n",
    "sns.barplot(x='f.smoker',y='match',data=train,ax=plt.subplot(122))\n",
    "plt.tight_layout()\n",
    "plt.show()\n",
    "plt.show()"
   ]
  },
  {
   "cell_type": "markdown",
   "metadata": {},
   "source": [
    "## Using heatmap to understand the correlation between all the features."
   ]
  },
  {
   "cell_type": "code",
   "execution_count": 15,
   "metadata": {},
   "outputs": [
    {
     "data": {
      "image/png": "[encoded data removed]",
      "text/plain": [
       "<matplotlib.figure.Figure at 0x7fcbe8a9dd30>"
      ]
     },
     "metadata": {},
     "output_type": "display_data"
    },
    {
     "data": {
      "text/plain": [
       "f.age       0.16\n",
       "f.smoker    0.02\n",
       "f.child     0.05\n",
       "m.age      -0.01\n",
       "m.smoker   -0.04\n",
       "m.child     0.01\n",
       "match       1.00\n",
       "Name: match, dtype: float64"
      ]
     },
     "execution_count": 15,
     "metadata": {},
     "output_type": "execute_result"
    }
   ],
   "source": [
    "cols=['f.age','f.smoker','f.child','m.age','m.smoker','m.child','match']\n",
    "cor_matrix=train[cols].corr().round(2)\n",
    "fig=plt.figure(figsize=(12,12))\n",
    "sns.heatmap(cor_matrix,annot=True,center=0,cmap=sns.diverging_palette(250,10,as_cmap=True),ax=plt.subplot(111))\n",
    "plt.show()\n",
    "cor_matrix['match']"
   ]
  },
  {
   "cell_type": "code",
   "execution_count": 16,
   "metadata": {},
   "outputs": [
    {
     "name": "stdout",
     "output_type": "stream",
     "text": [
      "336 E 23rd St New York NY                  24\n",
      "427 10th Ave New York NY                   24\n",
      "966 3rd Ave New York NY                    22\n",
      "14 E 47th St New York NY                   22\n",
      "404 E 14th St New York NY                  22\n",
      "2271 Broadway New York NY                  22\n",
      "39 Union sq W New York NY                  21\n",
      "102 1st Ave New York NY                    21\n",
      "824 3rd Ave New York NY                    21\n",
      "2049 Broadway New York NY                  20\n",
      "1560 Broadway New York NY                  19\n",
      "27 3rd Ave New York NY                     18\n",
      "1083 2nd Ave New York NY                   17\n",
      "451 Lexington Ave New York NY              17\n",
      "220 W 42nd St New York NY                  17\n",
      "90 Maiden Ln New York NY                   16\n",
      "26 Bowery New York NY                      15\n",
      "208 Varick St New York NY                  15\n",
      "688 8th Ave New York NY                    14\n",
      "686 Avenue of the Americas New York NY     14\n",
      "3794 Broadway New York NY                  14\n",
      "541 Avenue of the Americas New York NY     14\n",
      "151 W 34th St New York NY                  14\n",
      "1286 1st Ave New York NY                   13\n",
      "1499 3rd Ave New York NY                   13\n",
      "556 7th Ave New York NY                    12\n",
      "600 W 125th St New York NY                 11\n",
      "1188 Avenue of the Americas New York NY    11\n",
      "154 7th Ave New York NY                     9\n",
      "Name: m.address, dtype: int64\n"
     ]
    },
    {
     "data": {
      "text/plain": [
       "m.address\n",
       "102 1st Ave New York NY                    21\n",
       "1083 2nd Ave New York NY                   17\n",
       "1188 Avenue of the Americas New York NY    11\n",
       "1286 1st Ave New York NY                   13\n",
       "14 E 47th St New York NY                   22\n",
       "1499 3rd Ave New York NY                   13\n",
       "151 W 34th St New York NY                  14\n",
       "154 7th Ave New York NY                     9\n",
       "1560 Broadway New York NY                  19\n",
       "2049 Broadway New York NY                  20\n",
       "208 Varick St New York NY                  15\n",
       "220 W 42nd St New York NY                  17\n",
       "2271 Broadway New York NY                  22\n",
       "26 Bowery New York NY                      15\n",
       "27 3rd Ave New York NY                     18\n",
       "336 E 23rd St New York NY                  24\n",
       "3794 Broadway New York NY                  14\n",
       "39 Union sq W New York NY                  21\n",
       "404 E 14th St New York NY                  22\n",
       "427 10th Ave New York NY                   24\n",
       "451 Lexington Ave New York NY              17\n",
       "541 Avenue of the Americas New York NY     14\n",
       "556 7th Ave New York NY                    12\n",
       "600 W 125th St New York NY                 11\n",
       "686 Avenue of the Americas New York NY     14\n",
       "688 8th Ave New York NY                    14\n",
       "824 3rd Ave New York NY                    21\n",
       "90 Maiden Ln New York NY                   16\n",
       "966 3rd Ave New York NY                    22\n",
       "Name: match, dtype: int64"
      ]
     },
     "execution_count": 16,
     "metadata": {},
     "output_type": "execute_result"
    }
   ],
   "source": [
    "print(train['m.address'].value_counts(ascending=False))\n",
    "train[\"match\"].groupby(train[\"m.address\"]).count()"
   ]
  },
  {
   "cell_type": "code",
   "execution_count": 17,
   "metadata": {},
   "outputs": [
    {
     "data": {
      "image/png": "[encoded data removed]",
      "text/plain": [
       "<matplotlib.figure.Figure at 0x7fcbecd185c0>"
      ]
     },
     "metadata": {},
     "output_type": "display_data"
    }
   ],
   "source": [
    "g=sns.countplot(train['m.address'])\n",
    "g=plt.setp(g.get_xticklabels(),rotation=90)\n",
    "plt.show()"
   ]
  },
  {
   "cell_type": "code",
   "execution_count": 18,
   "metadata": {},
   "outputs": [
    {
     "data": {
      "image/png": "[encoded data removed]",
      "text/plain": [
       "<matplotlib.figure.Figure at 0x7fcbe8accf60>"
      ]
     },
     "metadata": {},
     "output_type": "display_data"
    }
   ],
   "source": [
    "g=sns.barplot(x=train['m.address'],y=train['match'],ax=plt.subplot(121))\n",
    "f=sns.barplot(x=train['f.address'],y=train['match'],ax=plt.subplot(122))\n",
    "g=plt.setp(g.get_xticklabels(),rotation=90)\n",
    "f=plt.setp(f.get_xticklabels(),rotation=90)\n",
    "plt.show()"
   ]
  },
  {
   "cell_type": "markdown",
   "metadata": {},
   "source": [
    "## According to me, if two people have common interests, there is higher chance of them dating.\n",
    "So, splitting feature called interests. To find common interest between people"
   ]
  },
  {
   "cell_type": "code",
   "execution_count": 19,
   "metadata": {},
   "outputs": [
    {
     "data": {
      "text/plain": [
       "['snowboarding', 'knitting', 'computers', 'shopping', 'tv', 'travel']"
      ]
     },
     "execution_count": 19,
     "metadata": {},
     "output_type": "execute_result"
    }
   ],
   "source": [
    "train['m.interest'][0].split(\":\")"
   ]
  },
  {
   "cell_type": "code",
   "execution_count": 20,
   "metadata": {},
   "outputs": [
    {
     "data": {
      "text/plain": [
       "{'animals',\n",
       " 'art',\n",
       " 'camping',\n",
       " 'computers',\n",
       " 'cooking',\n",
       " 'dancing',\n",
       " 'fashion',\n",
       " 'football',\n",
       " 'knitting',\n",
       " 'movies',\n",
       " 'opera',\n",
       " 'photography',\n",
       " 'reading',\n",
       " 'running',\n",
       " 'scrabble',\n",
       " 'shopping',\n",
       " 'skiing',\n",
       " 'snowboarding',\n",
       " 'soccer',\n",
       " 'travel',\n",
       " 'tv',\n",
       " 'writing'}"
      ]
     },
     "execution_count": 20,
     "metadata": {},
     "output_type": "execute_result"
    }
   ],
   "source": [
    "list_minterest=[]\n",
    "for i in range(len(train['m.interest'])):\n",
    "    try:\n",
    "        l2=train['m.interest'][i].split(\":\")\n",
    "        list_minterest.extend(l2)\n",
    "    except:\n",
    "        i+=1\n",
    "        l2=train['m.interest'][i].split(\":\")\n",
    "        list_minterest.extend(l2)\n",
    "        \n",
    "list_minterest=set(list_minterest)\n",
    "list_minterest"
   ]
  },
  {
   "cell_type": "code",
   "execution_count": 21,
   "metadata": {},
   "outputs": [
    {
     "data": {
      "text/plain": [
       "{'animals',\n",
       " 'art',\n",
       " 'camping',\n",
       " 'computers',\n",
       " 'cooking',\n",
       " 'dancing',\n",
       " 'fashion',\n",
       " 'football',\n",
       " 'knitting',\n",
       " 'movies',\n",
       " 'opera',\n",
       " 'photography',\n",
       " 'reading',\n",
       " 'running',\n",
       " 'scrabble',\n",
       " 'shopping',\n",
       " 'skiing',\n",
       " 'snowboarding',\n",
       " 'soccer',\n",
       " 'travel',\n",
       " 'tv',\n",
       " 'writing'}"
      ]
     },
     "execution_count": 21,
     "metadata": {},
     "output_type": "execute_result"
    }
   ],
   "source": [
    "list_finterest=[]\n",
    "for i in range(len(train['f.interest'])):\n",
    "    try:\n",
    "        l2=train['f.interest'][i].split(\":\")\n",
    "        list_finterest.extend(l2)\n",
    "    except:\n",
    "        i+=1\n",
    "        l2=train['f.interest'][i].split(\":\")\n",
    "        list_finterest.extend(l2)\n",
    "        \n",
    "list_finterest=set(list_finterest)\n",
    "list_finterest"
   ]
  },
  {
   "cell_type": "markdown",
   "metadata": {},
   "source": [
    "Interest of male and female are common."
   ]
  },
  {
   "cell_type": "code",
   "execution_count": 22,
   "metadata": {
    "collapsed": true
   },
   "outputs": [],
   "source": [
    "for i in range(train.shape[0]):\n",
    "    try:\n",
    "        l1=train['m.interest'][i].split(\":\")\n",
    "        l2=train['f.interest'][i].split(\":\")\n",
    "        common_interest=0\n",
    "        common_interest=len(list(set(l1).intersection(l2)))\n",
    "        train.loc[i,\"common_interest\"]=common_interest\n",
    "    except:\n",
    "        continue\n",
    "        "
   ]
  },
  {
   "cell_type": "markdown",
   "metadata": {},
   "source": [
    "## Another, feature engineering could be age difference between two people. If there is a great age difference,\n",
    "the probability of matching might be less.\n",
    "\n",
    "So, let's see if that's true with this dataset."
   ]
  },
  {
   "cell_type": "code",
   "execution_count": 23,
   "metadata": {
    "collapsed": true
   },
   "outputs": [],
   "source": [
    "import numpy as np\n",
    "train.loc[:,'age_diff']=np.abs(train.loc[:,'m.age']-train.loc[:,'f.age'])"
   ]
  },
  {
   "cell_type": "code",
   "execution_count": 33,
   "metadata": {},
   "outputs": [
    {
     "data": {
      "image/png": "[encoded data removed]",
      "text/plain": [
       "<matplotlib.figure.Figure at 0x7fcbe86e9710>"
      ]
     },
     "metadata": {},
     "output_type": "display_data"
    }
   ],
   "source": [
    "#age_diff, match\n",
    "sns.barplot(y=train['match'],x=train['age_diff'])\n",
    "plt.show()"
   ]
  },
  {
   "cell_type": "markdown",
   "metadata": {},
   "source": [
    "Another idea. If two people smoke, do they have a higher chancing of liking each other and matching ?\n",
    "Let's find out."
   ]
  },
  {
   "cell_type": "code",
   "execution_count": 34,
   "metadata": {
    "collapsed": true
   },
   "outputs": [],
   "source": [
    "for i in range(train.shape[0]):\n",
    "    if train.loc[i,'m.smoker']==train.loc[i,'f.smoker']:\n",
    "        train.loc[i,'common_smoking']=1\n",
    "    else:\n",
    "        train.loc[i,'common_smoking']=0\n",
    "      "
   ]
  },
  {
   "cell_type": "code",
   "execution_count": 52,
   "metadata": {},
   "outputs": [
    {
     "data": {
      "text/html": [
       "<div>\n",
       "<style>\n",
       "    .dataframe thead tr:only-child th {\n",
       "        text-align: right;\n",
       "    }\n",
       "\n",
       "    .dataframe thead th {\n",
       "        text-align: left;\n",
       "    }\n",
       "\n",
       "    .dataframe tbody tr th {\n",
       "        vertical-align: top;\n",
       "    }\n",
       "</style>\n",
       "<table border=\"1\" class=\"dataframe\">\n",
       "  <thead>\n",
       "    <tr style=\"text-align: right;\">\n",
       "      <th></th>\n",
       "      <th>match</th>\n",
       "    </tr>\n",
       "    <tr>\n",
       "      <th>common_smoking</th>\n",
       "      <th></th>\n",
       "    </tr>\n",
       "  </thead>\n",
       "  <tbody>\n",
       "    <tr>\n",
       "      <th>0.0</th>\n",
       "      <td>0.386503</td>\n",
       "    </tr>\n",
       "    <tr>\n",
       "      <th>1.0</th>\n",
       "      <td>0.416413</td>\n",
       "    </tr>\n",
       "  </tbody>\n",
       "</table>\n",
       "</div>"
      ],
      "text/plain": [
       "                   match\n",
       "common_smoking          \n",
       "0.0             0.386503\n",
       "1.0             0.416413"
      ]
     },
     "execution_count": 52,
     "metadata": {},
     "output_type": "execute_result"
    }
   ],
   "source": [
    "train[['common_smoking','match']].groupby([\"common_smoking\"]).mean()"
   ]
  },
  {
   "cell_type": "markdown",
   "metadata": {},
   "source": [
    "Yes!! People who smoke have a higher chance of matching with people who smoke."
   ]
  },
  {
   "cell_type": "code",
   "execution_count": 53,
   "metadata": {},
   "outputs": [
    {
     "name": "stdout",
     "output_type": "stream",
     "text": [
      "(492, 8)\n",
      "(492,)\n"
     ]
    }
   ],
   "source": [
    "cols=['f.age','f.smoker','f.child','m.age','m.smoker','m.child','common_interest','age_diff']\n",
    "xdata=train[cols]\n",
    "ydata=train['match']\n",
    "\n",
    "print(xdata.shape)\n",
    "print(ydata.shape)"
   ]
  },
  {
   "cell_type": "markdown",
   "metadata": {},
   "source": [
    "# I am using various classifying Algorithms to classify matching.\n",
    "\n",
    "1)LogisiticRegression()\n",
    "\n",
    "2)RidgeClassifier()-Using various alpha/regularization values to see the change in accuracy.\n",
    "\n",
    "3)LinearDiscriminantAnalysis()\n",
    "\n",
    "4)QuadraticDiscriminantAnalysis()"
   ]
  },
  {
   "cell_type": "code",
   "execution_count": 54,
   "metadata": {},
   "outputs": [
    {
     "name": "stdout",
     "output_type": "stream",
     "text": [
      "0.621621621622\n",
      "             precision    recall  f1-score   support\n",
      "\n",
      "          0       0.66      0.69      0.67        84\n",
      "          1       0.57      0.53      0.55        64\n",
      "\n",
      "avg / total       0.62      0.62      0.62       148\n",
      "\n"
     ]
    }
   ],
   "source": [
    "from sklearn.model_selection import train_test_split\n",
    "from sklearn.linear_model import LogisticRegression\n",
    "from sklearn.metrics import classification_report\n",
    "\n",
    "xtrain,xvalid,ytrain,yvalid=train_test_split(xdata,ydata,test_size=0.3,random_state=7)\n",
    "clf=LogisticRegression()\n",
    "clf.fit(xtrain,ytrain)\n",
    "\n",
    "ypred=clf.predict(xvalid)\n",
    "print(clf.score(xvalid,yvalid))\n",
    "print(classification_report(yvalid,ypred))\n"
   ]
  },
  {
   "cell_type": "code",
   "execution_count": 55,
   "metadata": {},
   "outputs": [
    {
     "name": "stdout",
     "output_type": "stream",
     "text": [
      "0.635135135135\n",
      "             precision    recall  f1-score   support\n",
      "\n",
      "          0       0.66      0.74      0.70        84\n",
      "          1       0.59      0.50      0.54        64\n",
      "\n",
      "avg / total       0.63      0.64      0.63       148\n",
      "\n",
      "0.635135135135\n",
      "             precision    recall  f1-score   support\n",
      "\n",
      "          0       0.66      0.74      0.70        84\n",
      "          1       0.59      0.50      0.54        64\n",
      "\n",
      "avg / total       0.63      0.64      0.63       148\n",
      "\n",
      "0.635135135135\n",
      "             precision    recall  f1-score   support\n",
      "\n",
      "          0       0.66      0.74      0.70        84\n",
      "          1       0.59      0.50      0.54        64\n",
      "\n",
      "avg / total       0.63      0.64      0.63       148\n",
      "\n",
      "0.635135135135\n",
      "             precision    recall  f1-score   support\n",
      "\n",
      "          0       0.66      0.74      0.70        84\n",
      "          1       0.59      0.50      0.54        64\n",
      "\n",
      "avg / total       0.63      0.64      0.63       148\n",
      "\n",
      "0.621621621622\n",
      "             precision    recall  f1-score   support\n",
      "\n",
      "          0       0.65      0.71      0.68        84\n",
      "          1       0.57      0.50      0.53        64\n",
      "\n",
      "avg / total       0.62      0.62      0.62       148\n",
      "\n"
     ]
    }
   ],
   "source": [
    "from sklearn.discriminant_analysis import LinearDiscriminantAnalysis,QuadraticDiscriminantAnalysis\n",
    "from sklearn.linear_model import RidgeClassifier\n",
    "from sklearn.metrics import confusion_matrix\n",
    "xtrain,xvalid,ytrain,yvalid=train_test_split(xdata,ydata,test_size=0.3,random_state=7)\n",
    "for i in [0.001,0.01,1,10,100]:\n",
    "    clf=RidgeClassifier(alpha=i)\n",
    "    clf.fit(xtrain,ytrain)\n",
    "\n",
    "    ypred=clf.predict(xvalid)\n",
    "    print(clf.score(xvalid,yvalid))\n",
    "    print(classification_report(yvalid,ypred))"
   ]
  },
  {
   "cell_type": "code",
   "execution_count": 56,
   "metadata": {},
   "outputs": [
    {
     "name": "stdout",
     "output_type": "stream",
     "text": [
      "0.594594594595\n",
      "             precision    recall  f1-score   support\n",
      "\n",
      "          0       0.65      0.63      0.64        84\n",
      "          1       0.53      0.55      0.54        64\n",
      "\n",
      "avg / total       0.60      0.59      0.60       148\n",
      "\n"
     ]
    }
   ],
   "source": [
    "from sklearn.neighbors import KNeighborsClassifier\n",
    "xtrain,xvalid,ytrain,yvalid=train_test_split(xdata,ydata,test_size=0.3,random_state=7)\n",
    "clf=KNeighborsClassifier(n_neighbors=25)\n",
    "clf.fit(xtrain,ytrain)\n",
    "ypred=clf.predict(xvalid)\n",
    "\n",
    "print(clf.score(xvalid,yvalid))\n",
    "print(classification_report(yvalid,ypred))"
   ]
  },
  {
   "cell_type": "code",
   "execution_count": 57,
   "metadata": {},
   "outputs": [
    {
     "name": "stdout",
     "output_type": "stream",
     "text": [
      "0.628378378378\n",
      "             precision    recall  f1-score   support\n",
      "\n",
      "          0       0.66      0.73      0.69        84\n",
      "          1       0.58      0.50      0.54        64\n",
      "\n",
      "avg / total       0.62      0.63      0.62       148\n",
      "\n"
     ]
    }
   ],
   "source": [
    "xtrain,xvalid,ytrain,yvalid=train_test_split(xdata,ydata,test_size=0.3,random_state=7)\n",
    "clf=LinearDiscriminantAnalysis()\n",
    "clf.fit(xtrain,ytrain)\n",
    "\n",
    "ypred=clf.predict(xvalid)\n",
    "print(clf.score(xvalid,yvalid))\n",
    "print(classification_report(yvalid,ypred))\n"
   ]
  },
  {
   "cell_type": "code",
   "execution_count": 58,
   "metadata": {},
   "outputs": [
    {
     "name": "stdout",
     "output_type": "stream",
     "text": [
      "0.967320261438\n",
      "             precision    recall  f1-score   support\n",
      "\n",
      "          0       0.97      0.98      0.97        87\n",
      "          1       0.97      0.95      0.96        66\n",
      "\n",
      "avg / total       0.97      0.97      0.97       153\n",
      "\n",
      "<bound method BaseEstimator.get_params of QuadraticDiscriminantAnalysis(priors=None, reg_param=0.0,\n",
      "               store_covariance=False, store_covariances=None, tol=0.0001)>\n",
      "[[85  3]\n",
      " [ 2 63]]\n"
     ]
    }
   ],
   "source": [
    "from pandas_ml import ConfusionMatrix\n",
    "xtrain,xvalid,ytrain,yvalid=train_test_split(xdata,ydata,test_size=0.31,random_state=7)\n",
    "clf=QuadraticDiscriminantAnalysis()\n",
    "clf.fit(xtrain,ytrain)\n",
    "\n",
    "ypred=clf.predict(xvalid)\n",
    "print(clf.score(xvalid,yvalid))\n",
    "print(classification_report(yvalid,ypred))\n",
    "print(clf.get_params)\n",
    "print(confusion_matrix(ypred,yvalid))"
   ]
  },
  {
   "cell_type": "markdown",
   "metadata": {},
   "source": [
    "## QuadraticDiscriminantAnalysis()\n",
    "It gives us the highest accuracy values of around 97%, which acutally doesn't sound bad for matching two people.\n"
   ]
  }
 ],
 "metadata": {
  "kernelspec": {
   "display_name": "Python 3",
   "language": "python",
   "name": "python3"
  },
  "language_info": {
   "codemirror_mode": {
    "name": "ipython",
    "version": 3
   },
   "file_extension": ".py",
   "mimetype": "text/x-python",
   "name": "python",
   "nbconvert_exporter": "python",
   "pygments_lexer": "ipython3",
   "version": "3.6.3"
  }
 },
 "nbformat": 4,
 "nbformat_minor": 2
}
